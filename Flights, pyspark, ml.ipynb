{
 "cells": [
  {
   "cell_type": "code",
   "execution_count": 43,
   "metadata": {},
   "outputs": [],
   "source": [
    "from pyspark.sql import SparkSession\n",
    "from pyspark.ml.feature import StringIndexer, VectorAssembler, OneHotEncoder\n",
    "from pyspark.ml.classification import DecisionTreeClassifier, LogisticRegression\n",
    "from pyspark.ml.evaluation import MulticlassClassificationEvaluator, BinaryClassificationEvaluator, RegressionEvaluator\n",
    "from pyspark.ml.regression import LinearRegression"
   ]
  },
  {
   "cell_type": "code",
   "execution_count": 3,
   "metadata": {},
   "outputs": [],
   "source": [
    "spark = SparkSession.builder.master('local[*]').appName('test').getOrCreate() # local cluster with all available nodes"
   ]
  },
  {
   "cell_type": "code",
   "execution_count": 4,
   "metadata": {},
   "outputs": [
    {
     "name": "stdout",
     "output_type": "stream",
     "text": [
      "3.0.0\n"
     ]
    }
   ],
   "source": [
    "print(spark.version)"
   ]
  },
  {
   "cell_type": "markdown",
   "metadata": {},
   "source": [
    "## Load Data"
   ]
  },
  {
   "cell_type": "code",
   "execution_count": 5,
   "metadata": {},
   "outputs": [],
   "source": [
    "data = spark.read.csv('flights.csv', header=True, inferSchema=True, nullValue='NA')"
   ]
  },
  {
   "cell_type": "code",
   "execution_count": 6,
   "metadata": {},
   "outputs": [
    {
     "data": {
      "text/plain": [
       "275000"
      ]
     },
     "execution_count": 6,
     "metadata": {},
     "output_type": "execute_result"
    }
   ],
   "source": [
    "data.count() # number of records"
   ]
  },
  {
   "cell_type": "code",
   "execution_count": 7,
   "metadata": {},
   "outputs": [
    {
     "data": {
      "text/plain": [
       "[('mon', 'int'),\n",
       " ('dom', 'int'),\n",
       " ('dow', 'int'),\n",
       " ('carrier', 'string'),\n",
       " ('flight', 'int'),\n",
       " ('org', 'string'),\n",
       " ('mile', 'int'),\n",
       " ('depart', 'double'),\n",
       " ('duration', 'int'),\n",
       " ('delay', 'int')]"
      ]
     },
     "execution_count": 7,
     "metadata": {},
     "output_type": "execute_result"
    }
   ],
   "source": [
    "data.dtypes # columns and types"
   ]
  },
  {
   "cell_type": "code",
   "execution_count": 8,
   "metadata": {},
   "outputs": [
    {
     "name": "stdout",
     "output_type": "stream",
     "text": [
      "+---+---+---+-------+------+---+----+------+--------+-----+\n",
      "|mon|dom|dow|carrier|flight|org|mile|depart|duration|delay|\n",
      "+---+---+---+-------+------+---+----+------+--------+-----+\n",
      "| 10| 10|  1|     OO|  5836|ORD| 157|  8.18|      51|   27|\n",
      "|  1|  4|  1|     OO|  5866|ORD| 466|  15.5|     102| null|\n",
      "| 11| 22|  1|     OO|  6016|ORD| 738|  7.17|     127|  -19|\n",
      "|  2| 14|  5|     B6|   199|JFK|2248| 21.17|     365|   60|\n",
      "|  5| 25|  3|     WN|  1675|SJC| 386| 12.92|      85|   22|\n",
      "|  3| 28|  1|     B6|   377|LGA|1076| 13.33|     182|   70|\n",
      "|  5| 28|  6|     B6|   904|ORD| 740|  9.58|     130|   47|\n",
      "|  1| 19|  2|     UA|   820|SFO| 679| 12.75|     123|  135|\n",
      "+---+---+---+-------+------+---+----+------+--------+-----+\n",
      "only showing top 8 rows\n",
      "\n"
     ]
    }
   ],
   "source": [
    "data.show(8)"
   ]
  },
  {
   "cell_type": "markdown",
   "metadata": {},
   "source": [
    "Data dictionary:\n",
    "- mon — month (integer between 1 and 12)\n",
    "- dom — day of month (integer between 1 and 31)\n",
    "- dow — day of week (integer; 1 = Monday and 7 = Sunday)\n",
    "- org — origin airport (IATA code)\n",
    "- mile — distance (miles)\n",
    "- carrier — carrier (IATA code)\n",
    "- depart — departure time (decimal hour)\n",
    "- duration — expected duration (minutes)\n",
    "- delay — delay (minutes)"
   ]
  },
  {
   "cell_type": "markdown",
   "metadata": {},
   "source": [
    "## Data Wrangling"
   ]
  },
  {
   "cell_type": "markdown",
   "metadata": {},
   "source": [
    "### Drop columns and nulls"
   ]
  },
  {
   "cell_type": "markdown",
   "metadata": {},
   "source": [
    "We want to predict delay, let's drop the flight column because is an uninformative column."
   ]
  },
  {
   "cell_type": "code",
   "execution_count": 9,
   "metadata": {},
   "outputs": [],
   "source": [
    "data2 = data.drop('flight')"
   ]
  },
  {
   "cell_type": "markdown",
   "metadata": {},
   "source": [
    "We want only the records with no null entries in the delay column"
   ]
  },
  {
   "cell_type": "code",
   "execution_count": 10,
   "metadata": {},
   "outputs": [
    {
     "data": {
      "text/plain": [
       "16711"
      ]
     },
     "execution_count": 10,
     "metadata": {},
     "output_type": "execute_result"
    }
   ],
   "source": [
    "data2.filter('delay IS NULL').count()"
   ]
  },
  {
   "cell_type": "code",
   "execution_count": 11,
   "metadata": {},
   "outputs": [],
   "source": [
    "data2 = data2.filter('delay IS NOT NULL')"
   ]
  },
  {
   "cell_type": "code",
   "execution_count": 12,
   "metadata": {},
   "outputs": [
    {
     "data": {
      "text/plain": [
       "258289"
      ]
     },
     "execution_count": 12,
     "metadata": {},
     "output_type": "execute_result"
    }
   ],
   "source": [
    "data2.count()"
   ]
  },
  {
   "cell_type": "code",
   "execution_count": 13,
   "metadata": {},
   "outputs": [
    {
     "data": {
      "text/plain": [
       "258289"
      ]
     },
     "execution_count": 13,
     "metadata": {},
     "output_type": "execute_result"
    }
   ],
   "source": [
    "data2.dropna().count()"
   ]
  },
  {
   "cell_type": "markdown",
   "metadata": {},
   "source": [
    "There are no more nulls in the data"
   ]
  },
  {
   "cell_type": "markdown",
   "metadata": {},
   "source": [
    "### Create target column"
   ]
  },
  {
   "cell_type": "markdown",
   "metadata": {},
   "source": [
    "The Federal Aviation Administration (FAA) considers a flight to be \"delayed\" when it arrives 15 minutes or more after its scheduled time."
   ]
  },
  {
   "cell_type": "markdown",
   "metadata": {},
   "source": [
    "Let's create a boolean column indicating whether or not a flight was delayed"
   ]
  },
  {
   "cell_type": "code",
   "execution_count": 14,
   "metadata": {},
   "outputs": [],
   "source": [
    "data2 = data2.withColumn('delayed', (data2.delay >= 15).cast('integer'))"
   ]
  },
  {
   "cell_type": "code",
   "execution_count": 15,
   "metadata": {},
   "outputs": [
    {
     "name": "stdout",
     "output_type": "stream",
     "text": [
      "+---+---+---+-------+---+----+------+--------+-----+-------+\n",
      "|mon|dom|dow|carrier|org|mile|depart|duration|delay|delayed|\n",
      "+---+---+---+-------+---+----+------+--------+-----+-------+\n",
      "| 10| 10|  1|     OO|ORD| 157|  8.18|      51|   27|      1|\n",
      "| 11| 22|  1|     OO|ORD| 738|  7.17|     127|  -19|      0|\n",
      "|  2| 14|  5|     B6|JFK|2248| 21.17|     365|   60|      1|\n",
      "|  5| 25|  3|     WN|SJC| 386| 12.92|      85|   22|      1|\n",
      "|  3| 28|  1|     B6|LGA|1076| 13.33|     182|   70|      1|\n",
      "+---+---+---+-------+---+----+------+--------+-----+-------+\n",
      "only showing top 5 rows\n",
      "\n"
     ]
    }
   ],
   "source": [
    "data2.show(5)"
   ]
  },
  {
   "cell_type": "markdown",
   "metadata": {},
   "source": [
    "### Categorical columns"
   ]
  },
  {
   "cell_type": "code",
   "execution_count": 16,
   "metadata": {},
   "outputs": [],
   "source": [
    "data_idx = StringIndexer(inputCol='carrier', outputCol='carrier_idx').fit(data2).transform(data2)\n",
    "# the order for the categories is assingn according to frequency: most to least.\n",
    "# Use stringOrderType to change it."
   ]
  },
  {
   "cell_type": "code",
   "execution_count": 17,
   "metadata": {},
   "outputs": [],
   "source": [
    "data_idx = StringIndexer(inputCol='org', outputCol='org_idx').fit(data_idx).transform(data_idx)"
   ]
  },
  {
   "cell_type": "code",
   "execution_count": 18,
   "metadata": {},
   "outputs": [
    {
     "name": "stdout",
     "output_type": "stream",
     "text": [
      "+---+---+---+-------+---+----+------+--------+-----+-------+-----------+-------+\n",
      "|mon|dom|dow|carrier|org|mile|depart|duration|delay|delayed|carrier_idx|org_idx|\n",
      "+---+---+---+-------+---+----+------+--------+-----+-------+-----------+-------+\n",
      "| 10| 10|  1|     OO|ORD| 157|  8.18|      51|   27|      1|        2.0|    0.0|\n",
      "| 11| 22|  1|     OO|ORD| 738|  7.17|     127|  -19|      0|        2.0|    0.0|\n",
      "|  2| 14|  5|     B6|JFK|2248| 21.17|     365|   60|      1|        4.0|    2.0|\n",
      "|  5| 25|  3|     WN|SJC| 386| 12.92|      85|   22|      1|        3.0|    5.0|\n",
      "|  3| 28|  1|     B6|LGA|1076| 13.33|     182|   70|      1|        4.0|    3.0|\n",
      "+---+---+---+-------+---+----+------+--------+-----+-------+-----------+-------+\n",
      "only showing top 5 rows\n",
      "\n"
     ]
    }
   ],
   "source": [
    "data_idx.show(5)"
   ]
  },
  {
   "cell_type": "code",
   "execution_count": 19,
   "metadata": {},
   "outputs": [],
   "source": [
    "data_1hot = OneHotEncoder(inputCols=['org_idx'], outputCols=['org_dummy']).fit(data_idx).transform(data_idx)"
   ]
  },
  {
   "cell_type": "code",
   "execution_count": 20,
   "metadata": {},
   "outputs": [],
   "source": [
    "data_1hot = OneHotEncoder(inputCols=['carrier_idx'], outputCols=['carrier_dummy']).fit(data_1hot).transform(data_1hot)"
   ]
  },
  {
   "cell_type": "code",
   "execution_count": 22,
   "metadata": {},
   "outputs": [
    {
     "name": "stdout",
     "output_type": "stream",
     "text": [
      "+---+---+---+-------+---+----+------+--------+-----+-------+-----------+-------+-------------+-------------+\n",
      "|mon|dom|dow|carrier|org|mile|depart|duration|delay|delayed|carrier_idx|org_idx|    org_dummy|carrier_dummy|\n",
      "+---+---+---+-------+---+----+------+--------+-----+-------+-----------+-------+-------------+-------------+\n",
      "| 10| 10|  1|     OO|ORD| 157|  8.18|      51|   27|      1|        2.0|    0.0|(7,[0],[1.0])|(8,[2],[1.0])|\n",
      "| 11| 22|  1|     OO|ORD| 738|  7.17|     127|  -19|      0|        2.0|    0.0|(7,[0],[1.0])|(8,[2],[1.0])|\n",
      "|  2| 14|  5|     B6|JFK|2248| 21.17|     365|   60|      1|        4.0|    2.0|(7,[2],[1.0])|(8,[4],[1.0])|\n",
      "|  5| 25|  3|     WN|SJC| 386| 12.92|      85|   22|      1|        3.0|    5.0|(7,[5],[1.0])|(8,[3],[1.0])|\n",
      "|  3| 28|  1|     B6|LGA|1076| 13.33|     182|   70|      1|        4.0|    3.0|(7,[3],[1.0])|(8,[4],[1.0])|\n",
      "+---+---+---+-------+---+----+------+--------+-----+-------+-----------+-------+-------------+-------------+\n",
      "only showing top 5 rows\n",
      "\n"
     ]
    }
   ],
   "source": [
    "data_1hot.show(5) # the dummy columns are DenseVector: indicates the len of the vector and the index and values not 0"
   ]
  },
  {
   "cell_type": "markdown",
   "metadata": {},
   "source": [
    "### Assamble columns\n",
    "consolidate all of the predictor columns into a single column"
   ]
  },
  {
   "cell_type": "code",
   "execution_count": 23,
   "metadata": {},
   "outputs": [],
   "source": [
    "assembler = VectorAssembler(inputCols=['mon', 'dom', 'dow', 'carrier_dummy', 'org_dummy', 'mile', 'depart', 'duration'], outputCol='features')"
   ]
  },
  {
   "cell_type": "code",
   "execution_count": 24,
   "metadata": {},
   "outputs": [],
   "source": [
    "data_assambled = assembler.transform(data_1hot)"
   ]
  },
  {
   "cell_type": "code",
   "execution_count": 29,
   "metadata": {},
   "outputs": [
    {
     "name": "stdout",
     "output_type": "stream",
     "text": [
      "+---+---+---+-------------+-------------+----+------+--------+--------------------+-------+\n",
      "|mon|dom|dow|carrier_dummy|    org_dummy|mile|depart|duration|            features|delayed|\n",
      "+---+---+---+-------------+-------------+----+------+--------+--------------------+-------+\n",
      "| 10| 10|  1|(8,[2],[1.0])|(7,[0],[1.0])| 157|  8.18|      51|(21,[0,1,2,5,11,1...|      1|\n",
      "| 11| 22|  1|(8,[2],[1.0])|(7,[0],[1.0])| 738|  7.17|     127|(21,[0,1,2,5,11,1...|      0|\n",
      "|  2| 14|  5|(8,[4],[1.0])|(7,[2],[1.0])|2248| 21.17|     365|(21,[0,1,2,7,13,1...|      1|\n",
      "|  5| 25|  3|(8,[3],[1.0])|(7,[5],[1.0])| 386| 12.92|      85|(21,[0,1,2,6,16,1...|      1|\n",
      "|  3| 28|  1|(8,[4],[1.0])|(7,[3],[1.0])|1076| 13.33|     182|(21,[0,1,2,7,14,1...|      1|\n",
      "+---+---+---+-------------+-------------+----+------+--------+--------------------+-------+\n",
      "only showing top 5 rows\n",
      "\n"
     ]
    }
   ],
   "source": [
    "data_assambled.select('mon', 'dom', 'dow', 'carrier_dummy', 'org_dummy', 'mile', 'depart', 'duration', 'features','delayed').show(5, truncate=True)"
   ]
  },
  {
   "cell_type": "markdown",
   "metadata": {},
   "source": [
    "## Machine Learning"
   ]
  },
  {
   "cell_type": "markdown",
   "metadata": {},
   "source": [
    "### Split train-test data"
   ]
  },
  {
   "cell_type": "code",
   "execution_count": 30,
   "metadata": {},
   "outputs": [],
   "source": [
    "train, test = data_assambled.randomSplit([0.8,0.2], seed=42)"
   ]
  },
  {
   "cell_type": "markdown",
   "metadata": {},
   "source": [
    "### Decision tree"
   ]
  },
  {
   "cell_type": "code",
   "execution_count": 31,
   "metadata": {},
   "outputs": [],
   "source": [
    "tree = DecisionTreeClassifier(labelCol='delayed', featuresCol='features').fit(train)"
   ]
  },
  {
   "cell_type": "code",
   "execution_count": 32,
   "metadata": {},
   "outputs": [],
   "source": [
    "predictions = tree.transform(test)"
   ]
  },
  {
   "cell_type": "code",
   "execution_count": 33,
   "metadata": {},
   "outputs": [
    {
     "name": "stdout",
     "output_type": "stream",
     "text": [
      "+-------+----------+----------------------------------------+\n",
      "|delayed|prediction|probability                             |\n",
      "+-------+----------+----------------------------------------+\n",
      "|0      |1.0       |[0.33498860306089223,0.6650113969391078]|\n",
      "|1      |1.0       |[0.33498860306089223,0.6650113969391078]|\n",
      "|1      |0.0       |[0.5506902312494505,0.44930976875054957]|\n",
      "|1      |1.0       |[0.33498860306089223,0.6650113969391078]|\n",
      "|1      |1.0       |[0.33498860306089223,0.6650113969391078]|\n",
      "+-------+----------+----------------------------------------+\n",
      "only showing top 5 rows\n",
      "\n"
     ]
    }
   ],
   "source": [
    "predictions.select('delayed', 'prediction', 'probability').show(5, truncate=False)"
   ]
  },
  {
   "cell_type": "markdown",
   "metadata": {},
   "source": [
    "#### Evaluation"
   ]
  },
  {
   "cell_type": "markdown",
   "metadata": {},
   "source": [
    "Confusion matrix"
   ]
  },
  {
   "cell_type": "code",
   "execution_count": 34,
   "metadata": {},
   "outputs": [
    {
     "name": "stdout",
     "output_type": "stream",
     "text": [
      "+-------+----------+-----+\n",
      "|delayed|prediction|count|\n",
      "+-------+----------+-----+\n",
      "|      1|       0.0| 8838|\n",
      "|      0|       0.0|15308|\n",
      "|      1|       1.0|17180|\n",
      "|      0|       1.0|10364|\n",
      "+-------+----------+-----+\n",
      "\n"
     ]
    }
   ],
   "source": [
    "predictions.groupBy('delayed', 'prediction').count().show()"
   ]
  },
  {
   "cell_type": "code",
   "execution_count": 35,
   "metadata": {},
   "outputs": [],
   "source": [
    "TN = predictions.filter('prediction = 0 AND delayed = prediction').count()\n",
    "TP = predictions.filter('prediction = 1 AND delayed = prediction').count()\n",
    "FN = predictions.filter('prediction = 0 AND delayed <> prediction').count()\n",
    "FP = predictions.filter('prediction = 1 AND delayed <> prediction').count()"
   ]
  },
  {
   "cell_type": "code",
   "execution_count": 36,
   "metadata": {},
   "outputs": [
    {
     "name": "stdout",
     "output_type": "stream",
     "text": [
      "0.62851615399497\n"
     ]
    }
   ],
   "source": [
    "accuracy = (TN + TP)/ (TN + TP + FN + FP)\n",
    "print(accuracy)"
   ]
  },
  {
   "cell_type": "code",
   "execution_count": 37,
   "metadata": {},
   "outputs": [
    {
     "name": "stdout",
     "output_type": "stream",
     "text": [
      "0.6237293058379321 0.6603120916288723\n"
     ]
    }
   ],
   "source": [
    "precision = TP/ (TP + FP)\n",
    "recall = TP / (TP + FN)\n",
    "print(precision, recall)"
   ]
  },
  {
   "cell_type": "markdown",
   "metadata": {},
   "source": [
    "## Logistic Regression"
   ]
  },
  {
   "cell_type": "code",
   "execution_count": 38,
   "metadata": {},
   "outputs": [],
   "source": [
    "log = LogisticRegression(labelCol='delayed', featuresCol='features').fit(train)"
   ]
  },
  {
   "cell_type": "code",
   "execution_count": 39,
   "metadata": {},
   "outputs": [],
   "source": [
    "preds = log.transform(test)"
   ]
  },
  {
   "cell_type": "markdown",
   "metadata": {},
   "source": [
    "#### Evaluation"
   ]
  },
  {
   "cell_type": "markdown",
   "metadata": {},
   "source": [
    "Confusion matrix"
   ]
  },
  {
   "cell_type": "code",
   "execution_count": 40,
   "metadata": {},
   "outputs": [
    {
     "name": "stdout",
     "output_type": "stream",
     "text": [
      "+-------+----------+-----+\n",
      "|delayed|prediction|count|\n",
      "+-------+----------+-----+\n",
      "|      1|       0.0| 9188|\n",
      "|      0|       0.0|14693|\n",
      "|      1|       1.0|16830|\n",
      "|      0|       1.0|10979|\n",
      "+-------+----------+-----+\n",
      "\n"
     ]
    }
   ],
   "source": [
    "preds.groupBy('delayed', 'prediction').count().show()"
   ]
  },
  {
   "cell_type": "markdown",
   "metadata": {},
   "source": [
    "Weighted Precision"
   ]
  },
  {
   "cell_type": "code",
   "execution_count": 41,
   "metadata": {},
   "outputs": [
    {
     "name": "stdout",
     "output_type": "stream",
     "text": [
      "0.6101957069746587\n"
     ]
    }
   ],
   "source": [
    "multi_evaluator = MulticlassClassificationEvaluator(labelCol = 'delayed')\n",
    "weighted_precision = multi_evaluator.evaluate(preds, {multi_evaluator.metricName: \"weightedPrecision\"})\n",
    "print(weighted_precision)"
   ]
  },
  {
   "cell_type": "markdown",
   "metadata": {},
   "source": [
    "AUC (area under ROC)"
   ]
  },
  {
   "cell_type": "code",
   "execution_count": 42,
   "metadata": {},
   "outputs": [
    {
     "name": "stdout",
     "output_type": "stream",
     "text": [
      "0.653047019327488\n"
     ]
    }
   ],
   "source": [
    "binary_evaluator = BinaryClassificationEvaluator(labelCol = 'delayed')\n",
    "auc = binary_evaluator.evaluate(preds, {binary_evaluator.metricName:'areaUnderROC'})\n",
    "print(auc)"
   ]
  },
  {
   "cell_type": "markdown",
   "metadata": {},
   "source": [
    "## Linear Regression to predict the duration"
   ]
  },
  {
   "cell_type": "markdown",
   "metadata": {},
   "source": [
    "- Start with just one feature: distance"
   ]
  },
  {
   "cell_type": "code",
   "execution_count": 44,
   "metadata": {},
   "outputs": [],
   "source": [
    "assembler2 = VectorAssembler(inputCols=['mile'], outputCol='features')"
   ]
  },
  {
   "cell_type": "code",
   "execution_count": 45,
   "metadata": {},
   "outputs": [],
   "source": [
    "df_assambled = assembler2.transform(data_1hot)"
   ]
  },
  {
   "cell_type": "code",
   "execution_count": 46,
   "metadata": {},
   "outputs": [],
   "source": [
    "df_train, df_test = df_assambled.randomSplit([0.8,0.2], seed=42)"
   ]
  },
  {
   "cell_type": "code",
   "execution_count": 47,
   "metadata": {},
   "outputs": [],
   "source": [
    "reg = LinearRegression(labelCol='duration').fit(df_train)"
   ]
  },
  {
   "cell_type": "code",
   "execution_count": 48,
   "metadata": {},
   "outputs": [
    {
     "name": "stdout",
     "output_type": "stream",
     "text": [
      "+--------+------------------+\n",
      "|duration|prediction        |\n",
      "+--------+------------------+\n",
      "|245     |213.57145459809462|\n",
      "|160     |133.36577053199244|\n",
      "|155     |137.14445777522826|\n",
      "|190     |177.73487235579364|\n",
      "|255     |213.32766832433748|\n",
      "+--------+------------------+\n",
      "only showing top 5 rows\n",
      "\n"
     ]
    }
   ],
   "source": [
    "pred_dur = reg.transform(df_test)\n",
    "pred_dur.select('duration', 'prediction').show(5, False)"
   ]
  },
  {
   "cell_type": "code",
   "execution_count": 50,
   "metadata": {},
   "outputs": [
    {
     "data": {
      "text/plain": [
       "17.08160179005299"
      ]
     },
     "execution_count": 50,
     "metadata": {},
     "output_type": "execute_result"
    }
   ],
   "source": [
    "RegressionEvaluator(labelCol='duration').evaluate(pred_dur) #RMSE"
   ]
  },
  {
   "cell_type": "markdown",
   "metadata": {},
   "source": [
    "Coefficients"
   ]
  },
  {
   "cell_type": "code",
   "execution_count": 52,
   "metadata": {},
   "outputs": [
    {
     "name": "stdout",
     "output_type": "stream",
     "text": [
      "44.018101199997126\n"
     ]
    }
   ],
   "source": [
    "# Intercept (average minutes on ground)\n",
    "inter = reg.intercept\n",
    "print(inter)"
   ]
  },
  {
   "cell_type": "code",
   "execution_count": 55,
   "metadata": {},
   "outputs": [
    {
     "name": "stdout",
     "output_type": "stream",
     "text": [
      "[0.12189313687857477]\n"
     ]
    }
   ],
   "source": [
    "# Coefficients: just one. Indicates the average minutes per mile (slope for distance)\n",
    "coefs = reg.coefficients\n",
    "print(coefs)"
   ]
  },
  {
   "cell_type": "markdown",
   "metadata": {},
   "source": [
    "Let's see if it makes sense. To transform to minutes per km: divide per 1.60934. To transform to hours per km: divide per 60. And then take the inverse to have km/hr"
   ]
  },
  {
   "cell_type": "code",
   "execution_count": 57,
   "metadata": {},
   "outputs": [
    {
     "data": {
      "text/plain": [
       "792.1725740489371"
      ]
     },
     "execution_count": 57,
     "metadata": {},
     "output_type": "execute_result"
    }
   ],
   "source": [
    "1/(0.12189313687857477 / 1.60934/60)"
   ]
  },
  {
   "cell_type": "markdown",
   "metadata": {},
   "source": [
    "According to google this makes sense."
   ]
  },
  {
   "cell_type": "markdown",
   "metadata": {},
   "source": [
    "- Add Origin"
   ]
  },
  {
   "cell_type": "code",
   "execution_count": 58,
   "metadata": {},
   "outputs": [],
   "source": [
    "assembler3 = VectorAssembler(inputCols=['mile','org_dummy'], outputCol='features')\n",
    "df3_assambled = assembler3.transform(data_1hot)\n",
    "df3_train, df3_test = df3_assambled.randomSplit([0.8,0.2], seed=42)"
   ]
  },
  {
   "cell_type": "code",
   "execution_count": 59,
   "metadata": {},
   "outputs": [],
   "source": [
    "reg3 = LinearRegression(labelCol='duration').fit(df3_train)"
   ]
  },
  {
   "cell_type": "code",
   "execution_count": 61,
   "metadata": {},
   "outputs": [
    {
     "name": "stdout",
     "output_type": "stream",
     "text": [
      "+--------+------------------+\n",
      "|duration|prediction        |\n",
      "+--------+------------------+\n",
      "|245     |234.81889722676988|\n",
      "|160     |150.3855457396908 |\n",
      "|155     |154.0903953711782 |\n",
      "|190     |193.88765109005902|\n",
      "|255     |228.78494439310168|\n",
      "+--------+------------------+\n",
      "only showing top 5 rows\n",
      "\n"
     ]
    }
   ],
   "source": [
    "pred_dur2 = reg3.transform(df3_test)\n",
    "pred_dur2.select('duration', 'prediction').show(5, False)"
   ]
  },
  {
   "cell_type": "code",
   "execution_count": 62,
   "metadata": {},
   "outputs": [
    {
     "data": {
      "text/plain": [
       "11.124669149751762"
      ]
     },
     "execution_count": 62,
     "metadata": {},
     "output_type": "execute_result"
    }
   ],
   "source": [
    "RegressionEvaluator(labelCol='duration').evaluate(pred_dur2) #RMSE"
   ]
  },
  {
   "cell_type": "markdown",
   "metadata": {},
   "source": [
    "coefficients"
   ]
  },
  {
   "cell_type": "code",
   "execution_count": 63,
   "metadata": {},
   "outputs": [
    {
     "name": "stdout",
     "output_type": "stream",
     "text": [
      "[0.11951127843507756,28.40886411142309,20.39563635811636,52.69779736409431,46.902867087296265,15.80421429487965,18.154485106121992,18.020384912431833]\n"
     ]
    }
   ],
   "source": [
    "coefs = reg3.coefficients\n",
    "print(coefs)"
   ]
  },
  {
   "cell_type": "markdown",
   "metadata": {},
   "source": [
    "To understand them we need to see how was converted the org column."
   ]
  },
  {
   "cell_type": "code",
   "execution_count": 65,
   "metadata": {},
   "outputs": [
    {
     "name": "stdout",
     "output_type": "stream",
     "text": [
      "+---+-------+-------------+\n",
      "|org|org_idx|    org_dummy|\n",
      "+---+-------+-------------+\n",
      "|ORD|    0.0|(7,[0],[1.0])|\n",
      "|SFO|    1.0|(7,[1],[1.0])|\n",
      "|JFK|    2.0|(7,[2],[1.0])|\n",
      "|LGA|    3.0|(7,[3],[1.0])|\n",
      "|SMF|    4.0|(7,[4],[1.0])|\n",
      "|SJC|    5.0|(7,[5],[1.0])|\n",
      "|TUS|    6.0|(7,[6],[1.0])|\n",
      "|OGG|    7.0|    (7,[],[])|\n",
      "+---+-------+-------------+\n",
      "\n"
     ]
    }
   ],
   "source": [
    "data_1hot.select('org', 'org_idx', 'org_dummy').distinct().sort('org_idx').show()"
   ]
  },
  {
   "cell_type": "markdown",
   "metadata": {},
   "source": [
    "So:\n",
    "- 0: Miles\n",
    "- 1: ORD\n",
    "- 2: SFO\n",
    "- 3: JFK\n",
    "- 4: LGA\n",
    "- 5: SMF\n",
    "- 6: SJC\n",
    "- 7: TUS\n",
    "\n",
    "and the baseline is OGG."
   ]
  },
  {
   "cell_type": "code",
   "execution_count": 66,
   "metadata": {},
   "outputs": [
    {
     "name": "stdout",
     "output_type": "stream",
     "text": [
      "15.880911559482685\n"
     ]
    }
   ],
   "source": [
    "# Intercept (average minutes on ground at IGG)\n",
    "inter = reg3.intercept\n",
    "print(inter)"
   ]
  },
  {
   "cell_type": "code",
   "execution_count": 67,
   "metadata": {},
   "outputs": [
    {
     "data": {
      "text/plain": [
       "807.9605645960416"
      ]
     },
     "execution_count": 67,
     "metadata": {},
     "output_type": "execute_result"
    }
   ],
   "source": [
    "# average speed\n",
    "1/(reg3.coefficients[0] / 1.60934/60)"
   ]
  },
  {
   "cell_type": "code",
   "execution_count": 69,
   "metadata": {},
   "outputs": [
    {
     "data": {
      "text/plain": [
       "68.578708923577"
      ]
     },
     "execution_count": 69,
     "metadata": {},
     "output_type": "execute_result"
    }
   ],
   "source": [
    "# Average minutes on ground at JFK\n",
    "reg3.intercept + reg3.coefficients[3]"
   ]
  },
  {
   "cell_type": "code",
   "execution_count": null,
   "metadata": {},
   "outputs": [],
   "source": []
  },
  {
   "cell_type": "code",
   "execution_count": null,
   "metadata": {},
   "outputs": [],
   "source": []
  },
  {
   "cell_type": "code",
   "execution_count": null,
   "metadata": {},
   "outputs": [],
   "source": []
  },
  {
   "cell_type": "code",
   "execution_count": null,
   "metadata": {},
   "outputs": [],
   "source": []
  },
  {
   "cell_type": "code",
   "execution_count": null,
   "metadata": {},
   "outputs": [],
   "source": []
  },
  {
   "cell_type": "code",
   "execution_count": null,
   "metadata": {},
   "outputs": [],
   "source": []
  },
  {
   "cell_type": "code",
   "execution_count": null,
   "metadata": {},
   "outputs": [],
   "source": []
  },
  {
   "cell_type": "code",
   "execution_count": null,
   "metadata": {},
   "outputs": [],
   "source": []
  },
  {
   "cell_type": "code",
   "execution_count": null,
   "metadata": {},
   "outputs": [],
   "source": []
  },
  {
   "cell_type": "code",
   "execution_count": null,
   "metadata": {},
   "outputs": [],
   "source": []
  },
  {
   "cell_type": "code",
   "execution_count": null,
   "metadata": {},
   "outputs": [],
   "source": [
    "spark.stop() # close the conection is a good practice"
   ]
  }
 ],
 "metadata": {
  "kernelspec": {
   "display_name": "Python 3",
   "language": "python",
   "name": "python3"
  }
 },
 "nbformat": 4,
 "nbformat_minor": 2
}
